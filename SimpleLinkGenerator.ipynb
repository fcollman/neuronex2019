{
 "cells": [
  {
   "cell_type": "code",
   "execution_count": 1,
   "metadata": {},
   "outputs": [],
   "source": [
    "import neuroglancer\n",
    "import pprint"
   ]
  },
  {
   "cell_type": "code",
   "execution_count": 2,
   "metadata": {},
   "outputs": [],
   "source": [
    "viewer = neuroglancer.Viewer()"
   ]
  },
  {
   "cell_type": "code",
   "execution_count": 3,
   "metadata": {},
   "outputs": [],
   "source": [
    "json_state = {\n",
    "  \"layers\": [\n",
    "    {\n",
    "      \"source\": \"precomputed://gs://neuroglancer-public-data/kasthuri2011/image\",\n",
    "      \"type\": \"image\",\n",
    "      \"name\": \"original-image\",\n",
    "      \"visible\": False\n",
    "    },\n",
    "    {\n",
    "      \"source\": \"precomputed://gs://neuroglancer-public-data/kasthuri2011/image_color_corrected\",\n",
    "      \"type\": \"image\",\n",
    "      \"name\": \"corrected-image\"\n",
    "    },\n",
    "    {\n",
    "      \"source\": \"precomputed://gs://neuroglancer-public-data/kasthuri2011/ground_truth\",\n",
    "      \"type\": \"segmentation\",\n",
    "      \"selectedAlpha\": 0.63,\n",
    "      \"notSelectedAlpha\": 0.14,\n",
    "      \"segments\": [\n",
    "        \"13\",\n",
    "        \"15\",\n",
    "        \"2282\",\n",
    "        \"3189\",\n",
    "        \"3207\",\n",
    "        \"3208\",\n",
    "        \"3224\",\n",
    "        \"3228\",\n",
    "        \"3710\",\n",
    "        \"3758\",\n",
    "        \"4027\",\n",
    "        \"444\",\n",
    "        \"4651\",\n",
    "        \"4901\",\n",
    "        \"4965\"\n",
    "      ],\n",
    "      \"skeletonRendering\": {\n",
    "        \"mode2d\": \"lines_and_points\",\n",
    "        \"mode3d\": \"lines\"\n",
    "      },\n",
    "      \"name\": \"ground_truth\"\n",
    "    }\n",
    "  ],\n",
    "  \"navigation\": {\n",
    "    \"pose\": {\n",
    "      \"position\": {\n",
    "        \"voxelSize\": [\n",
    "          6,\n",
    "          6,\n",
    "          30\n",
    "        ],\n",
    "        \"voxelCoordinates\": [\n",
    "          5523.99072265625,\n",
    "          8538.9384765625,\n",
    "          1198.0423583984375\n",
    "        ]\n",
    "      }\n",
    "    },\n",
    "    \"zoomFactor\": 22.573112129999547\n",
    "  },\n",
    "  \"perspectiveOrientation\": [\n",
    "    -0.0240006223320961,\n",
    "    -0.9715657234191895,\n",
    "    -0.19320166110992432,\n",
    "    -0.13474851846694946\n",
    "  ],\n",
    "  \"perspectiveZoom\": 340.35867907175077,\n",
    "  \"layout\": \"4panel\"\n",
    "}"
   ]
  },
  {
   "cell_type": "code",
   "execution_count": 4,
   "metadata": {},
   "outputs": [
    {
     "data": {
      "text/plain": [
       "'7ae49f5dbcdb0d6f7806e150562af7bc73cdb9fa'"
      ]
     },
     "execution_count": 4,
     "metadata": {},
     "output_type": "execute_result"
    }
   ],
   "source": [
    "viewer.set_state(json_state)"
   ]
  },
  {
   "cell_type": "code",
   "execution_count": 5,
   "metadata": {},
   "outputs": [
    {
     "data": {
      "text/html": [
       "<a href=\"http://127.0.0.1:50199/v/f25fb39b6c0edcb292c31eeb4659e12de591f61e/\" target=\"_blank\">Viewer</a>"
      ],
      "text/plain": [
       "http://127.0.0.1:50199/v/f25fb39b6c0edcb292c31eeb4659e12de591f61e/"
      ]
     },
     "execution_count": 5,
     "metadata": {},
     "output_type": "execute_result"
    }
   ],
   "source": [
    "viewer"
   ]
  },
  {
   "cell_type": "code",
   "execution_count": 6,
   "metadata": {},
   "outputs": [],
   "source": [
    "# click on the link and alter something about the viewer state... move the cursor, select some more IDs"
   ]
  },
  {
   "cell_type": "code",
   "execution_count": 7,
   "metadata": {},
   "outputs": [
    {
     "name": "stdout",
     "output_type": "stream",
     "text": [
      "OrderedDict([('layers',\n",
      "              [OrderedDict([('source',\n",
      "                             'precomputed://gs://neuroglancer-public-data/kasthuri2011/image'),\n",
      "                            ('type', 'image'),\n",
      "                            ('name', 'original-image'),\n",
      "                            ('visible', False)]),\n",
      "               OrderedDict([('source',\n",
      "                             'precomputed://gs://neuroglancer-public-data/kasthuri2011/image_color_corrected'),\n",
      "                            ('type', 'image'),\n",
      "                            ('name', 'corrected-image')]),\n",
      "               OrderedDict([('source',\n",
      "                             'precomputed://gs://neuroglancer-public-data/kasthuri2011/ground_truth'),\n",
      "                            ('type', 'segmentation'),\n",
      "                            ('selectedAlpha', 0.63),\n",
      "                            ('notSelectedAlpha', 0.14),\n",
      "                            ('segments',\n",
      "                             ['13',\n",
      "                              '15',\n",
      "                              '2282',\n",
      "                              '3189',\n",
      "                              '3207',\n",
      "                              '3208',\n",
      "                              '3224',\n",
      "                              '3228',\n",
      "                              '3710',\n",
      "                              '3758',\n",
      "                              '4027',\n",
      "                              '444',\n",
      "                              '4651',\n",
      "                              '4901',\n",
      "                              '4965']),\n",
      "                            ('name', 'ground_truth')])]),\n",
      "             ('navigation',\n",
      "              OrderedDict([('pose',\n",
      "                            OrderedDict([('position',\n",
      "                                          OrderedDict([('voxelSize',\n",
      "                                                        [6, 6, 30]),\n",
      "                                                       ('voxelCoordinates',\n",
      "                                                        [5523.99072265625,\n",
      "                                                         8538.9384765625,\n",
      "                                                         1198.0423583984375])]))])),\n",
      "                           ('zoomFactor', 22.573112129999547)])),\n",
      "             ('perspectiveOrientation',\n",
      "              [0.17367863655090332,\n",
      "               -0.6687397360801697,\n",
      "               -0.4669223129749298,\n",
      "               0.5519115924835205]),\n",
      "             ('perspectiveZoom', 340.35867907175077),\n",
      "             ('layout', '3d')])\n"
     ]
    }
   ],
   "source": [
    "# notice stuff changes... you can now syncronize between python and your code\n",
    "with viewer.txn() as s:\n",
    "    pprint.pprint(s.to_json())"
   ]
  },
  {
   "cell_type": "code",
   "execution_count": 8,
   "metadata": {},
   "outputs": [
    {
     "data": {
      "text/plain": [
       "'https://neuroglancer-demo.appspot.com#!%7B%22layers%22:%5B%7B%22source%22:%22precomputed://gs://neuroglancer-public-data/kasthuri2011/image%22,%22type%22:%22image%22,%22name%22:%22original-image%22,%22visible%22:false%7D,%7B%22source%22:%22precomputed://gs://neuroglancer-public-data/kasthuri2011/image_color_corrected%22,%22type%22:%22image%22,%22name%22:%22corrected-image%22%7D,%7B%22source%22:%22precomputed://gs://neuroglancer-public-data/kasthuri2011/ground_truth%22,%22type%22:%22segmentation%22,%22selectedAlpha%22:0.63,%22notSelectedAlpha%22:0.14,%22segments%22:%5B%2213%22,%2215%22,%222282%22,%223189%22,%223207%22,%223208%22,%223224%22,%223228%22,%223710%22,%223758%22,%224027%22,%22444%22,%224651%22,%224901%22,%224965%22%5D,%22name%22:%22ground_truth%22%7D%5D,%22navigation%22:%7B%22pose%22:%7B%22position%22:%7B%22voxelSize%22:%5B6,6,30%5D,%22voxelCoordinates%22:%5B5523.99072265625,8538.9384765625,1198.0423583984375%5D%7D%7D,%22zoomFactor%22:22.573112129999547%7D,%22perspectiveOrientation%22:%5B0.17367863655090332,-0.6687397360801697,-0.4669223129749298,0.5519115924835205%5D,%22perspectiveZoom%22:340.35867907175077,%22layout%22:%223d%22%7D'"
      ]
     },
     "execution_count": 8,
     "metadata": {},
     "output_type": "execute_result"
    }
   ],
   "source": [
    "# if you want neuroglancer python will make you a long link that you can share\n",
    "neuroglancer.to_url(s)"
   ]
  },
  {
   "cell_type": "code",
   "execution_count": null,
   "metadata": {},
   "outputs": [],
   "source": []
  }
 ],
 "metadata": {
  "kernelspec": {
   "display_name": "neuronex",
   "language": "python",
   "name": "neuronex"
  },
  "language_info": {
   "codemirror_mode": {
    "name": "ipython",
    "version": 3
   },
   "file_extension": ".py",
   "mimetype": "text/x-python",
   "name": "python",
   "nbconvert_exporter": "python",
   "pygments_lexer": "ipython3",
   "version": "3.7.3"
  }
 },
 "nbformat": 4,
 "nbformat_minor": 2
}
