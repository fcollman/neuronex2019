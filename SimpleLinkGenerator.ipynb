{
 "cells": [
  {
   "cell_type": "code",
   "execution_count": 1,
   "metadata": {},
   "outputs": [],
   "source": [
    "import neuroglancer\n",
    "import pprint"
   ]
  },
  {
   "cell_type": "code",
   "execution_count": 2,
   "metadata": {},
   "outputs": [],
   "source": [
    "viewer = neuroglancer.Viewer()"
   ]
  },
  {
   "cell_type": "code",
   "execution_count": 3,
   "metadata": {},
   "outputs": [],
   "source": [
    "json_state = {\n",
    "  \"layers\": [\n",
    "    {\n",
    "      \"source\": \"precomputed://gs://neuroglancer-public-data/kasthuri2011/image\",\n",
    "      \"type\": \"image\",\n",
    "      \"name\": \"original-image\",\n",
    "      \"visible\": False\n",
    "    },\n",
    "    {\n",
    "      \"source\": \"precomputed://gs://neuroglancer-public-data/kasthuri2011/image_color_corrected\",\n",
    "      \"type\": \"image\",\n",
    "      \"name\": \"corrected-image\"\n",
    "    },\n",
    "    {\n",
    "      \"source\": \"precomputed://gs://neuroglancer-public-data/kasthuri2011/ground_truth\",\n",
    "      \"type\": \"segmentation\",\n",
    "      \"selectedAlpha\": 0.63,\n",
    "      \"notSelectedAlpha\": 0.14,\n",
    "      \"segments\": [\n",
    "        \"13\",\n",
    "        \"15\",\n",
    "        \"2282\",\n",
    "        \"3189\",\n",
    "        \"3207\",\n",
    "        \"3208\",\n",
    "        \"3224\",\n",
    "        \"3228\",\n",
    "        \"3710\",\n",
    "        \"3758\",\n",
    "        \"4027\",\n",
    "        \"444\",\n",
    "        \"4651\",\n",
    "        \"4901\",\n",
    "        \"4965\"\n",
    "      ],\n",
    "      \"skeletonRendering\": {\n",
    "        \"mode2d\": \"lines_and_points\",\n",
    "        \"mode3d\": \"lines\"\n",
    "      },\n",
    "      \"name\": \"ground_truth\"\n",
    "    }\n",
    "  ],\n",
    "  \"navigation\": {\n",
    "    \"pose\": {\n",
    "      \"position\": {\n",
    "        \"voxelSize\": [\n",
    "          6,\n",
    "          6,\n",
    "          30\n",
    "        ],\n",
    "        \"voxelCoordinates\": [\n",
    "          5523.99072265625,\n",
    "          8538.9384765625,\n",
    "          1198.0423583984375\n",
    "        ]\n",
    "      }\n",
    "    },\n",
    "    \"zoomFactor\": 22.573112129999547\n",
    "  },\n",
    "  \"perspectiveOrientation\": [\n",
    "    -0.0240006223320961,\n",
    "    -0.9715657234191895,\n",
    "    -0.19320166110992432,\n",
    "    -0.13474851846694946\n",
    "  ],\n",
    "  \"perspectiveZoom\": 340.35867907175077,\n",
    "  \"layout\": \"4panel\"\n",
    "}"
   ]
  },
  {
   "cell_type": "code",
   "execution_count": 4,
   "metadata": {},
   "outputs": [
    {
     "data": {
      "text/plain": [
       "'174a6b67cb599a74d7c2c4e18b813d6593773366'"
      ]
     },
     "execution_count": 4,
     "metadata": {},
     "output_type": "execute_result"
    }
   ],
   "source": [
    "viewer.set_state(json_state)"
   ]
  },
  {
   "cell_type": "code",
   "execution_count": 5,
   "metadata": {},
   "outputs": [
    {
     "data": {
      "text/html": [
       "<a href=\"http://127.0.0.1:50995/v/018b56c9d42745f56f556569d24f5cae2b9e674f/\" target=\"_blank\">Viewer</a>"
      ],
      "text/plain": [
       "http://127.0.0.1:50995/v/018b56c9d42745f56f556569d24f5cae2b9e674f/"
      ]
     },
     "execution_count": 5,
     "metadata": {},
     "output_type": "execute_result"
    }
   ],
   "source": [
    "viewer"
   ]
  },
  {
   "cell_type": "code",
   "execution_count": 6,
   "metadata": {},
   "outputs": [],
   "source": [
    "# click on the link and alter something about the viewer state... move the cursor, select some more IDs"
   ]
  },
  {
   "cell_type": "code",
   "execution_count": 7,
   "metadata": {},
   "outputs": [
    {
     "name": "stdout",
     "output_type": "stream",
     "text": [
      "{'layers': [{'name': 'original-image',\n",
      "             'source': 'precomputed://gs://neuroglancer-public-data/kasthuri2011/image',\n",
      "             'type': 'image',\n",
      "             'visible': False},\n",
      "            {'name': 'corrected-image',\n",
      "             'source': 'precomputed://gs://neuroglancer-public-data/kasthuri2011/image_color_corrected',\n",
      "             'type': 'image'},\n",
      "            {'name': 'ground_truth',\n",
      "             'notSelectedAlpha': 0.14,\n",
      "             'segments': ['13',\n",
      "                          '15',\n",
      "                          '2282',\n",
      "                          '3189',\n",
      "                          '3207',\n",
      "                          '3208',\n",
      "                          '3224',\n",
      "                          '3228',\n",
      "                          '3710',\n",
      "                          '3758',\n",
      "                          '4027',\n",
      "                          '444',\n",
      "                          '4651',\n",
      "                          '4901',\n",
      "                          '4965'],\n",
      "             'selectedAlpha': 0.63,\n",
      "             'skeletonRendering': {'mode2d': 'lines_and_points',\n",
      "                                   'mode3d': 'lines'},\n",
      "             'source': 'precomputed://gs://neuroglancer-public-data/kasthuri2011/ground_truth',\n",
      "             'type': 'segmentation'}],\n",
      " 'layout': '4panel',\n",
      " 'navigation': {'pose': {'position': {'voxelCoordinates': [5523.99072265625,\n",
      "                                                           8538.9384765625,\n",
      "                                                           1198.0423583984375],\n",
      "                                      'voxelSize': [6, 6, 30]}},\n",
      "                'zoomFactor': 22.573112129999547},\n",
      " 'perspectiveOrientation': [-0.0240006223320961,\n",
      "                            -0.9715657234191895,\n",
      "                            -0.19320166110992432,\n",
      "                            -0.13474851846694946],\n",
      " 'perspectiveZoom': 340.35867907175077}\n"
     ]
    }
   ],
   "source": [
    "# notice stuff changes... you can now syncronize between python and your code\n",
    "with viewer.txn() as s:\n",
    "    pprint.pprint(s.to_json())"
   ]
  },
  {
   "cell_type": "code",
   "execution_count": 8,
   "metadata": {},
   "outputs": [
    {
     "data": {
      "text/plain": [
       "'https://neuroglancer-demo.appspot.com#!%7B%22layers%22:%5B%7B%22source%22:%22precomputed://gs://neuroglancer-public-data/kasthuri2011/image%22,%22type%22:%22image%22,%22name%22:%22original-image%22,%22visible%22:false%7D,%7B%22source%22:%22precomputed://gs://neuroglancer-public-data/kasthuri2011/image_color_corrected%22,%22type%22:%22image%22,%22name%22:%22corrected-image%22%7D,%7B%22source%22:%22precomputed://gs://neuroglancer-public-data/kasthuri2011/ground_truth%22,%22type%22:%22segmentation%22,%22selectedAlpha%22:0.63,%22notSelectedAlpha%22:0.14,%22segments%22:%5B%2213%22,%2215%22,%222282%22,%223189%22,%223207%22,%223208%22,%223224%22,%223228%22,%223710%22,%223758%22,%224027%22,%22444%22,%224651%22,%224901%22,%224965%22%5D,%22skeletonRendering%22:%7B%22mode2d%22:%22lines_and_points%22,%22mode3d%22:%22lines%22%7D,%22name%22:%22ground_truth%22%7D%5D,%22navigation%22:%7B%22pose%22:%7B%22position%22:%7B%22voxelSize%22:%5B6,6,30%5D,%22voxelCoordinates%22:%5B5523.99072265625,8538.9384765625,1198.0423583984375%5D%7D%7D,%22zoomFactor%22:22.573112129999547%7D,%22perspectiveOrientation%22:%5B-0.0240006223320961,-0.9715657234191895,-0.19320166110992432,-0.13474851846694946%5D,%22perspectiveZoom%22:340.35867907175077,%22layout%22:%224panel%22%7D'"
      ]
     },
     "execution_count": 8,
     "metadata": {},
     "output_type": "execute_result"
    }
   ],
   "source": [
    "# if you want neuroglancer python will make you a long link that you can share\n",
    "neuroglancer.to_url(s)"
   ]
  },
  {
   "cell_type": "code",
   "execution_count": 9,
   "metadata": {},
   "outputs": [
    {
     "name": "stdout",
     "output_type": "stream",
     "text": [
      "https://neuromancer-seung-import.appspot.com/?json_url=https://www.dynamicannotationframework.com/nglstate/5357063823425536\n"
     ]
    }
   ],
   "source": [
    "# but this can get very long, and not paste well... \n",
    "# if you run a jsonservice, you can interact with it programatically and\n",
    "# make yourself some short links..\n",
    "from annotationframeworkclient import jsonservice\n",
    "js=jsonservice.JSONService()\n",
    "id_ = js.upload_state_json(s.to_json())\n",
    "print(js.build_neuroglancer_url(id_, 'https://neuromancer-seung-import.appspot.com'))"
   ]
  },
  {
   "cell_type": "code",
   "execution_count": null,
   "metadata": {},
   "outputs": [],
   "source": []
  }
 ],
 "metadata": {
  "kernelspec": {
   "display_name": "neuronex",
   "language": "python",
   "name": "neuronex"
  },
  "language_info": {
   "codemirror_mode": {
    "name": "ipython",
    "version": 3
   },
   "file_extension": ".py",
   "mimetype": "text/x-python",
   "name": "python",
   "nbconvert_exporter": "python",
   "pygments_lexer": "ipython3",
   "version": "3.7.3"
  }
 },
 "nbformat": 4,
 "nbformat_minor": 2
}
